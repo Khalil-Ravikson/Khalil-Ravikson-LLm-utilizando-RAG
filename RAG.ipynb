{
  "nbformat": 4,
  "nbformat_minor": 0,
  "metadata": {
    "colab": {
      "provenance": [],
      "authorship_tag": "ABX9TyOIONTYvZ23DtdvWFkc8hRC",
      "include_colab_link": true
    },
    "kernelspec": {
      "name": "python3",
      "display_name": "Python 3"
    },
    "language_info": {
      "name": "python"
    }
  },
  "cells": [
    {
      "cell_type": "markdown",
      "metadata": {
        "id": "view-in-github",
        "colab_type": "text"
      },
      "source": [
        "<a href=\"https://colab.research.google.com/github/Khalil-Ravikson/Khalil-Ravikson-LLm-utilizando-RAG/blob/main/RAG.ipynb\" target=\"_parent\"><img src=\"https://colab.research.google.com/assets/colab-badge.svg\" alt=\"Open In Colab\"/></a>"
      ]
    },
    {
      "cell_type": "markdown",
      "source": [
        "# INSTALANDO AS BIBLIOTECAS E COLOCANDO AS IMPORTAÇÕES NECESSARIAS"
      ],
      "metadata": {
        "id": "u2jcUQ6IVZzC"
      }
    },
    {
      "cell_type": "code",
      "execution_count": null,
      "metadata": {
        "id": "clptIwsdSfdf"
      },
      "outputs": [],
      "source": [
        "!pip install langchain langchain-groq langchain_community langchain_huggingface -q"
      ]
    },
    {
      "cell_type": "code",
      "source": [
        "!pip install faiss-cpu sentence-transformers PyMuPDF --q"
      ],
      "metadata": {
        "id": "DEYIWVCGULRO",
        "colab": {
          "base_uri": "https://localhost:8080/"
        },
        "outputId": "3b6f7a6f-eff7-4b3d-d73e-e06f1f713a96"
      },
      "execution_count": null,
      "outputs": [
        {
          "output_type": "stream",
          "name": "stdout",
          "text": [
            "\u001b[2K   \u001b[90m━━━━━━━━━━━━━━━━━━━━━━━━━━━━━━━━━━━━━━━━\u001b[0m \u001b[32m31.4/31.4 MB\u001b[0m \u001b[31m46.1 MB/s\u001b[0m eta \u001b[36m0:00:00\u001b[0m\n",
            "\u001b[2K   \u001b[90m━━━━━━━━━━━━━━━━━━━━━━━━━━━━━━━━━━━━━━━━\u001b[0m \u001b[32m24.1/24.1 MB\u001b[0m \u001b[31m34.9 MB/s\u001b[0m eta \u001b[36m0:00:00\u001b[0m\n",
            "\u001b[?25h"
          ]
        }
      ]
    },
    {
      "cell_type": "code",
      "source": [
        "from langchain_groq import ChatGroq\n",
        "from langchain_core.output_parsers import StrOutputParser\n",
        "from langchain_core.prompts import ChatPromptTemplate\n",
        "import os\n",
        "import getpass"
      ],
      "metadata": {
        "id": "mKZgZrMHTUXs"
      },
      "execution_count": null,
      "outputs": []
    },
    {
      "cell_type": "markdown",
      "source": [
        "# CARRREGAMNTO PELA API DE CHAT (LLM)"
      ],
      "metadata": {
        "id": "4LD2apC2VxmS"
      }
    },
    {
      "cell_type": "code",
      "source": [
        "# usando os.env para pegar o token da api\n",
        "\n",
        "os.environ['GROQ_API_KEY'] = getpass.getpass()"
      ],
      "metadata": {
        "id": "xlhsxl96VxBd"
      },
      "execution_count": null,
      "outputs": []
    },
    {
      "cell_type": "code",
      "source": [
        "def load_llm(id_model, temperature):\n",
        "    \"\"\"INICIANDO a API.\"\"\"\n",
        "    llm = ChatGroq(model_name=id_model,\n",
        "                   temperature=temperature,\n",
        "                   max_tokens=None,\n",
        "                   timeout= None,\n",
        "                   max_retries= 2)\n",
        "    return llm"
      ],
      "metadata": {
        "id": "Zz2dUOvYWfb0"
      },
      "execution_count": null,
      "outputs": []
    },
    {
      "cell_type": "markdown",
      "source": [
        "# Chamando a lmm e usando @param para facilitar"
      ],
      "metadata": {
        "id": "IVUXoZGnXdB6"
      }
    },
    {
      "cell_type": "code",
      "source": [
        "id_model = \"llama-3.3-70b-versatile\" # @param {type: \"string\"}\n",
        "temperature = 0.9 # @param {\"type\":\"slider\",\"min\":0.1,\"max\":1,\"step\":1}\n",
        "\n",
        "llm = load_llm(id_model, temperature)"
      ],
      "metadata": {
        "id": "P2xPRd0zXb4y"
      },
      "execution_count": null,
      "outputs": []
    },
    {
      "cell_type": "code",
      "source": [
        "prompt_text = \"Como alterar minha senha\"\n",
        "\n",
        "chat_template = ChatPromptTemplate.from_messages([\n",
        "    (\"system\", \"Você é uma atendente de delivery, que apenas vê o que esta no cardapio\"),\n",
        "    (\"human\", \"{prompt}\")\n",
        "])\n",
        "\n",
        "chain = chat_template | llm | StrOutputParser()\n",
        "\n",
        "response = chain.invoke({\"prompt\": prompt_text})\n",
        "\n",
        "print(response)"
      ],
      "metadata": {
        "id": "HfhItAqcZpyO",
        "colab": {
          "base_uri": "https://localhost:8080/"
        },
        "outputId": "2ef8d083-dd42-4b76-d137-1f9389086bce"
      },
      "execution_count": null,
      "outputs": [
        {
          "output_type": "stream",
          "name": "stdout",
          "text": [
            "Desculpe, mas como atendente de delivery, não tenho acesso a informações de conta ou configurações de usuário. Posso ajudar com algo relacionado ao nosso cardápio ou fazer um pedido para você?\n"
          ]
        }
      ]
    },
    {
      "cell_type": "markdown",
      "source": [
        "# Melhorando a saida"
      ],
      "metadata": {
        "id": "rk44KciPa7IA"
      }
    },
    {
      "cell_type": "code",
      "source": [
        "from IPython.display import display,Markdown\n",
        "\n",
        "def show_res(response):\n",
        "    \"\"\"\n",
        "    Displays the response using display and splits it based on the </think> tag\n",
        "    into \"Thinking Process\" and \"Melhor resposta\".\n",
        "    \"\"\"\n",
        "    if response:  # Check if response is not empty\n",
        "        if \"</think>\" in response:\n",
        "            response = response.split(\"</think>\")[-1].strip()  # Splitting based on </think> tag\n",
        "            print(\"Thinking Process:\")\n",
        "        else:\n",
        "            # If </think> tag is not found, display the whole response as the best answer\n",
        "            response = response.strip()\n",
        "            print(\"Melhor resposta:\")\n",
        "\n",
        "    else:\n",
        "        print(\"Nenhuma resposta recebida.\")\n",
        "    display(Markdown(response))\n",
        "# Now you can call the function with the response from the AI\n",
        "show_res(response)"
      ],
      "metadata": {
        "colab": {
          "base_uri": "https://localhost:8080/",
          "height": 81
        },
        "id": "I9umH2Ura_fG",
        "outputId": "7cc4d687-2cbc-4ab3-f69a-34a42bd8f762"
      },
      "execution_count": null,
      "outputs": [
        {
          "output_type": "stream",
          "name": "stdout",
          "text": [
            "Melhor resposta:\n"
          ]
        },
        {
          "output_type": "display_data",
          "data": {
            "text/plain": [
              "<IPython.core.display.Markdown object>"
            ],
            "text/markdown": "Desculpe, mas como atendente de delivery, não tenho acesso a informações de conta ou configurações de usuário. Posso ajudar com algo relacionado ao nosso cardápio ou fazer um pedido para você?"
          },
          "metadata": {}
        }
      ]
    },
    {
      "cell_type": "code",
      "source": [
        "context = \"\"\"\n",
        "Para alterar uma senha no aplicativo, clique no menu 'Minha conta' e selecione 'Alterar senha'.\n",
        "Para alterar a senha pelo site, acesse 'Configurações' no menu do topo. Em seguida, selecione 'Minha conta' e 'Alterar senha'.\n",
        "\"\"\"\n",
        "\n",
        "prompt = f\"\"\"\n",
        "Como alterar minha senha?\n",
        "\n",
        "Contexto: {context}\n",
        "\"\"\""
      ],
      "metadata": {
        "id": "XE9HYFS2eC2W"
      },
      "execution_count": null,
      "outputs": []
    },
    {
      "cell_type": "code",
      "source": [
        "response = chain.invoke({\"prompt\": prompt})\n",
        "show_res(response)"
      ],
      "metadata": {
        "colab": {
          "base_uri": "https://localhost:8080/",
          "height": 285
        },
        "id": "PUvox3Ou7iVg",
        "outputId": "a05b597a-0a84-462b-a60e-91cf4ec6d656"
      },
      "execution_count": null,
      "outputs": [
        {
          "output_type": "stream",
          "name": "stdout",
          "text": [
            "Melhor resposta:\n"
          ]
        },
        {
          "output_type": "display_data",
          "data": {
            "text/plain": [
              "<IPython.core.display.Markdown object>"
            ],
            "text/markdown": "Para alterar sua senha no aplicativo ou site, você pode seguir os passos abaixo:\n\n- **No Aplicativo:** \n  1. Abra o aplicativo.\n  2. Clique no menu \"Minha conta\".\n  3. Selecione \"Alterar senha\".\n\n- **No Site:**\n  1. Acesse o site.\n  2. Clique em \"Configurações\" no menu do topo.\n  3. Selecione \"Minha conta\".\n  4. Clique em \"Alterar senha\".\n\nLembre-se de criar uma senha forte e única para proteger sua conta. Se tiver alguma dúvida ou precisar de ajuda adicional, fique à vontade para perguntar!"
          },
          "metadata": {}
        }
      ]
    },
    {
      "cell_type": "markdown",
      "source": [
        "# importando o documento\n"
      ],
      "metadata": {
        "id": "nZpkRJPN9f5n"
      }
    },
    {
      "cell_type": "code",
      "source": [
        "from google.colab import files\n",
        "up = files.upload()\n",
        "file_path = list(up.keys())[0]\n",
        "print(\"arquivo carregado:\",file_path)"
      ],
      "metadata": {
        "colab": {
          "base_uri": "https://localhost:8080/",
          "height": 90
        },
        "id": "T7FwFght8zy6",
        "outputId": "adf888d7-e413-4127-c0ef-310f27d2833c"
      },
      "execution_count": null,
      "outputs": [
        {
          "output_type": "display_data",
          "data": {
            "text/plain": [
              "<IPython.core.display.HTML object>"
            ],
            "text/html": [
              "\n",
              "     <input type=\"file\" id=\"files-721e99c8-1402-4a56-adff-47c61f8c65c0\" name=\"files[]\" multiple disabled\n",
              "        style=\"border:none\" />\n",
              "     <output id=\"result-721e99c8-1402-4a56-adff-47c61f8c65c0\">\n",
              "      Upload widget is only available when the cell has been executed in the\n",
              "      current browser session. Please rerun this cell to enable.\n",
              "      </output>\n",
              "      <script>// Copyright 2017 Google LLC\n",
              "//\n",
              "// Licensed under the Apache License, Version 2.0 (the \"License\");\n",
              "// you may not use this file except in compliance with the License.\n",
              "// You may obtain a copy of the License at\n",
              "//\n",
              "//      http://www.apache.org/licenses/LICENSE-2.0\n",
              "//\n",
              "// Unless required by applicable law or agreed to in writing, software\n",
              "// distributed under the License is distributed on an \"AS IS\" BASIS,\n",
              "// WITHOUT WARRANTIES OR CONDITIONS OF ANY KIND, either express or implied.\n",
              "// See the License for the specific language governing permissions and\n",
              "// limitations under the License.\n",
              "\n",
              "/**\n",
              " * @fileoverview Helpers for google.colab Python module.\n",
              " */\n",
              "(function(scope) {\n",
              "function span(text, styleAttributes = {}) {\n",
              "  const element = document.createElement('span');\n",
              "  element.textContent = text;\n",
              "  for (const key of Object.keys(styleAttributes)) {\n",
              "    element.style[key] = styleAttributes[key];\n",
              "  }\n",
              "  return element;\n",
              "}\n",
              "\n",
              "// Max number of bytes which will be uploaded at a time.\n",
              "const MAX_PAYLOAD_SIZE = 100 * 1024;\n",
              "\n",
              "function _uploadFiles(inputId, outputId) {\n",
              "  const steps = uploadFilesStep(inputId, outputId);\n",
              "  const outputElement = document.getElementById(outputId);\n",
              "  // Cache steps on the outputElement to make it available for the next call\n",
              "  // to uploadFilesContinue from Python.\n",
              "  outputElement.steps = steps;\n",
              "\n",
              "  return _uploadFilesContinue(outputId);\n",
              "}\n",
              "\n",
              "// This is roughly an async generator (not supported in the browser yet),\n",
              "// where there are multiple asynchronous steps and the Python side is going\n",
              "// to poll for completion of each step.\n",
              "// This uses a Promise to block the python side on completion of each step,\n",
              "// then passes the result of the previous step as the input to the next step.\n",
              "function _uploadFilesContinue(outputId) {\n",
              "  const outputElement = document.getElementById(outputId);\n",
              "  const steps = outputElement.steps;\n",
              "\n",
              "  const next = steps.next(outputElement.lastPromiseValue);\n",
              "  return Promise.resolve(next.value.promise).then((value) => {\n",
              "    // Cache the last promise value to make it available to the next\n",
              "    // step of the generator.\n",
              "    outputElement.lastPromiseValue = value;\n",
              "    return next.value.response;\n",
              "  });\n",
              "}\n",
              "\n",
              "/**\n",
              " * Generator function which is called between each async step of the upload\n",
              " * process.\n",
              " * @param {string} inputId Element ID of the input file picker element.\n",
              " * @param {string} outputId Element ID of the output display.\n",
              " * @return {!Iterable<!Object>} Iterable of next steps.\n",
              " */\n",
              "function* uploadFilesStep(inputId, outputId) {\n",
              "  const inputElement = document.getElementById(inputId);\n",
              "  inputElement.disabled = false;\n",
              "\n",
              "  const outputElement = document.getElementById(outputId);\n",
              "  outputElement.innerHTML = '';\n",
              "\n",
              "  const pickedPromise = new Promise((resolve) => {\n",
              "    inputElement.addEventListener('change', (e) => {\n",
              "      resolve(e.target.files);\n",
              "    });\n",
              "  });\n",
              "\n",
              "  const cancel = document.createElement('button');\n",
              "  inputElement.parentElement.appendChild(cancel);\n",
              "  cancel.textContent = 'Cancel upload';\n",
              "  const cancelPromise = new Promise((resolve) => {\n",
              "    cancel.onclick = () => {\n",
              "      resolve(null);\n",
              "    };\n",
              "  });\n",
              "\n",
              "  // Wait for the user to pick the files.\n",
              "  const files = yield {\n",
              "    promise: Promise.race([pickedPromise, cancelPromise]),\n",
              "    response: {\n",
              "      action: 'starting',\n",
              "    }\n",
              "  };\n",
              "\n",
              "  cancel.remove();\n",
              "\n",
              "  // Disable the input element since further picks are not allowed.\n",
              "  inputElement.disabled = true;\n",
              "\n",
              "  if (!files) {\n",
              "    return {\n",
              "      response: {\n",
              "        action: 'complete',\n",
              "      }\n",
              "    };\n",
              "  }\n",
              "\n",
              "  for (const file of files) {\n",
              "    const li = document.createElement('li');\n",
              "    li.append(span(file.name, {fontWeight: 'bold'}));\n",
              "    li.append(span(\n",
              "        `(${file.type || 'n/a'}) - ${file.size} bytes, ` +\n",
              "        `last modified: ${\n",
              "            file.lastModifiedDate ? file.lastModifiedDate.toLocaleDateString() :\n",
              "                                    'n/a'} - `));\n",
              "    const percent = span('0% done');\n",
              "    li.appendChild(percent);\n",
              "\n",
              "    outputElement.appendChild(li);\n",
              "\n",
              "    const fileDataPromise = new Promise((resolve) => {\n",
              "      const reader = new FileReader();\n",
              "      reader.onload = (e) => {\n",
              "        resolve(e.target.result);\n",
              "      };\n",
              "      reader.readAsArrayBuffer(file);\n",
              "    });\n",
              "    // Wait for the data to be ready.\n",
              "    let fileData = yield {\n",
              "      promise: fileDataPromise,\n",
              "      response: {\n",
              "        action: 'continue',\n",
              "      }\n",
              "    };\n",
              "\n",
              "    // Use a chunked sending to avoid message size limits. See b/62115660.\n",
              "    let position = 0;\n",
              "    do {\n",
              "      const length = Math.min(fileData.byteLength - position, MAX_PAYLOAD_SIZE);\n",
              "      const chunk = new Uint8Array(fileData, position, length);\n",
              "      position += length;\n",
              "\n",
              "      const base64 = btoa(String.fromCharCode.apply(null, chunk));\n",
              "      yield {\n",
              "        response: {\n",
              "          action: 'append',\n",
              "          file: file.name,\n",
              "          data: base64,\n",
              "        },\n",
              "      };\n",
              "\n",
              "      let percentDone = fileData.byteLength === 0 ?\n",
              "          100 :\n",
              "          Math.round((position / fileData.byteLength) * 100);\n",
              "      percent.textContent = `${percentDone}% done`;\n",
              "\n",
              "    } while (position < fileData.byteLength);\n",
              "  }\n",
              "\n",
              "  // All done.\n",
              "  yield {\n",
              "    response: {\n",
              "      action: 'complete',\n",
              "    }\n",
              "  };\n",
              "}\n",
              "\n",
              "scope.google = scope.google || {};\n",
              "scope.google.colab = scope.google.colab || {};\n",
              "scope.google.colab._files = {\n",
              "  _uploadFiles,\n",
              "  _uploadFilesContinue,\n",
              "};\n",
              "})(self);\n",
              "</script> "
            ]
          },
          "metadata": {}
        },
        {
          "output_type": "stream",
          "name": "stdout",
          "text": [
            "Saving manual-safebank.pdf to manual-safebank.pdf\n",
            "arquivo carregado: manual-safebank.pdf\n"
          ]
        }
      ]
    },
    {
      "cell_type": "code",
      "source": [
        "from pathlib import Path\n",
        "from langchain_community.document_loaders import PyMuPDFLoader\n",
        "\n",
        "file_path = \"manual-safebank.pdf\"\n",
        "\n",
        "loader = PyMuPDFLoader(file_path)\n",
        "pages = loader.load()\n",
        "\n",
        "pages[2]"
      ],
      "metadata": {
        "colab": {
          "base_uri": "https://localhost:8080/"
        },
        "id": "Ru8HMBaUGh57",
        "outputId": "ef75f460-168c-4434-8fdf-cc510c9df623",
        "collapsed": true
      },
      "execution_count": null,
      "outputs": [
        {
          "output_type": "execute_result",
          "data": {
            "text/plain": [
              "Document(metadata={'producer': 'Skia/PDF m137 Google Docs Renderer', 'creator': '', 'creationdate': '', 'source': 'manual-safebank.pdf', 'file_path': 'manual-safebank.pdf', 'total_pages': 11, 'format': 'PDF 1.4', 'title': 'manual-safebank', 'author': '', 'subject': '', 'keywords': '', 'moddate': '', 'trapped': '', 'modDate': '', 'creationDate': '', 'page': 2}, page_content='Conta corrente vs. conta de pagamentos - Oferecemos conta de pagamentos com \\nfuncionalidades semelhantes à conta corrente tradicional, como transferências, boletos e \\ncartão. Não possui cheque ou conta garantida, mas permite operações completas no meio \\ndigital. \\nLimites de movimentação - Os limites diários variam conforme o perfil do cliente e podem \\nser consultados em \"Minha conta > Limites\". É possível solicitar aumento temporário ou \\npermanente via app. \\nConfiguração de notificações por e-mail e push - Vá em \"Configurações > Notificações\" \\npara ativar ou desativar alertas de movimentação, saques, recebimentos, entre outros, por \\ne-mail ou diretamente no celular. \\n \\n \\n5. Cartões \\nSolicitação de cartão (virtual e físico) - Após a aprovação da conta, é possível solicitar o \\ncartão virtual instantaneamente no app. Para o cartão físico, acesse \"Cartões > Solicitar \\ncartão físico\" e informe o endereço de entrega. \\nAtivação e desbloqueio - Para desbloquear o cartão físico, acesse \"Cartões > \\nDesbloquear cartão\", insira os 4 últimos dígitos e confirme com a senha. O cartão virtual já \\nvem ativo. \\nCartão de crédito vs. débito - O cartão é inicialmente emitido como débito. A função \\ncrédito pode ser solicitada via app e é sujeita a análise de crédito. \\nEmissão de segunda via - Em caso de perda, roubo ou defeito, solicite a 2ª via pelo app \\nem \"Cartões > Solicitar segunda via\". A taxa de reemissão pode ser consultada no mesmo \\nlocal. \\nCancelamento de cartão - Acesse \"Cartões > Cancelar cartão\" para cancelar o cartão \\natual. Será necessário confirmar por SMS ou e-mail. \\nCartões adicionais - Atualmente não oferecemos cartões adicionais. Essa funcionalidade \\nestá em desenvolvimento e será informada aos clientes assim que estiver disponível. \\n \\n \\n6. Transferências e Pagamentos \\nTED, DOC e Pix\\u200b\\n O banco digital oferece suporte às principais formas de transferência. TED e DOC estão \\ndisponíveis apenas em dias úteis, com prazos de compensação diferentes: TED geralmente')"
            ]
          },
          "metadata": {},
          "execution_count": 27
        }
      ]
    },
    {
      "cell_type": "code",
      "source": [
        "import pprint\n",
        "\n",
        "pprint.pp(pages[0].metadata)"
      ],
      "metadata": {
        "colab": {
          "base_uri": "https://localhost:8080/"
        },
        "id": "YcRegyRMHxkx",
        "outputId": "b0b613f7-800a-4db9-a37a-f3fd0f01f777"
      },
      "execution_count": null,
      "outputs": [
        {
          "output_type": "stream",
          "name": "stdout",
          "text": [
            "{'producer': 'Skia/PDF m137 Google Docs Renderer',\n",
            " 'creator': '',\n",
            " 'creationdate': '',\n",
            " 'source': 'manual-safebank.pdf',\n",
            " 'file_path': 'manual-safebank.pdf',\n",
            " 'total_pages': 11,\n",
            " 'format': 'PDF 1.4',\n",
            " 'title': 'manual-safebank',\n",
            " 'author': '',\n",
            " 'subject': '',\n",
            " 'keywords': '',\n",
            " 'moddate': '',\n",
            " 'trapped': '',\n",
            " 'modDate': '',\n",
            " 'creationDate': '',\n",
            " 'page': 0}\n"
          ]
        }
      ]
    },
    {
      "cell_type": "code",
      "source": [
        "len(pages[0].page_content)"
      ],
      "metadata": {
        "colab": {
          "base_uri": "https://localhost:8080/"
        },
        "id": "AQ1vAoqzIQbW",
        "outputId": "50c4571b-f068-4822-9e3f-e7fa7623fb60"
      },
      "execution_count": null,
      "outputs": [
        {
          "output_type": "execute_result",
          "data": {
            "text/plain": [
              "1668"
            ]
          },
          "metadata": {},
          "execution_count": 30
        }
      ]
    },
    {
      "cell_type": "code",
      "source": [
        "print(pages[2].page_content[:1000])"
      ],
      "metadata": {
        "colab": {
          "base_uri": "https://localhost:8080/"
        },
        "id": "4dfIhHAzIfvi",
        "outputId": "580bf881-3da1-4d9f-8509-a4675239db26"
      },
      "execution_count": null,
      "outputs": [
        {
          "output_type": "stream",
          "name": "stdout",
          "text": [
            "Conta corrente vs. conta de pagamentos - Oferecemos conta de pagamentos com \n",
            "funcionalidades semelhantes à conta corrente tradicional, como transferências, boletos e \n",
            "cartão. Não possui cheque ou conta garantida, mas permite operações completas no meio \n",
            "digital. \n",
            "Limites de movimentação - Os limites diários variam conforme o perfil do cliente e podem \n",
            "ser consultados em \"Minha conta > Limites\". É possível solicitar aumento temporário ou \n",
            "permanente via app. \n",
            "Configuração de notificações por e-mail e push - Vá em \"Configurações > Notificações\" \n",
            "para ativar ou desativar alertas de movimentação, saques, recebimentos, entre outros, por \n",
            "e-mail ou diretamente no celular. \n",
            " \n",
            " \n",
            "5. Cartões \n",
            "Solicitação de cartão (virtual e físico) - Após a aprovação da conta, é possível solicitar o \n",
            "cartão virtual instantaneamente no app. Para o cartão físico, acesse \"Cartões > Solicitar \n",
            "cartão físico\" e informe o endereço de entrega. \n",
            "Ativação e desbloqueio - Para desbloquear o cartão físico, acesse \"Cartões\n"
          ]
        }
      ]
    },
    {
      "cell_type": "code",
      "source": [
        "def extract_file_name(file_path):\n",
        "    loader = PyMuPDFLoader(file_path)\n",
        "    pages = loader.load()\n",
        "\n",
        "    content = \"/n\".join([page.page_content for page in pages])\n",
        "\n",
        "    return content\n",
        "\n"
      ],
      "metadata": {
        "id": "tBXxJPIbI2yO"
      },
      "execution_count": null,
      "outputs": []
    },
    {
      "cell_type": "code",
      "source": [
        "extract_file_name(file_path)"
      ],
      "metadata": {
        "colab": {
          "base_uri": "https://localhost:8080/",
          "height": 1000
        },
        "id": "19gte3MAJ7Rb",
        "outputId": "d92a523f-608c-4d19-b3d2-a78f69434665"
      },
      "execution_count": null,
      "outputs": [
        {
          "output_type": "execute_result",
          "data": {
            "text/plain": [
              "'Manual de Atendimento e Uso – SafeBank \\n \\n1. Introdução \\nObjetivo do Manual  \\nEste manual tem como objetivo orientar clientes e atendentes sobre o funcionamento \\ncompleto do banco digital, abordando desde o acesso à conta, funcionalidades e serviços, \\naté procedimentos de segurança, suporte e resolução de problemas. O documento também \\nserve como material de consulta para dúvidas frequentes. \\nVisão geral do banco digital  \\nNosso banco digital oferece serviços bancários completos de forma 100% online, por meio \\ndo aplicativo e do site. Entre os principais serviços estão conta digital gratuita, \\ntransferências via Pix, pagamento de boletos, emissão de cartões, investimentos, seguros e \\nmuito mais, sempre com foco em praticidade, segurança e transparência. \\nPúblico-alvo  \\nO banco digital é voltado para pessoas físicas a partir de 18 anos, que buscam soluções \\nfinanceiras modernas, acessíveis e com gestão 100% digital.  \\n \\n2. Cadastro e Abertura de Conta \\nRequisitos para abertura de conta \\n●\\u200b Ser maior de 18 anos \\n●\\u200b Ter documento oficial com foto (RG, CNH ou RNE) \\n●\\u200b Possuir um smartphone com câmera \\n●\\u200b Endereço residencial  \\nEtapas do processo de cadastro \\n1.\\u200b Baixe o aplicativo ou acesse o site oficial \\n2.\\u200b Informe dados pessoais (nome, CPF, e-mail, telefone) \\n3.\\u200b Envie foto de documento oficial com foto \\n4.\\u200b Grave um vídeo de reconhecimento facial \\n5.\\u200b Confirme seu endereço e aceite os termos de uso \\nVerificação de identidade (KYC)  \\nO processo de KYC (Know Your Customer) é obrigatório para prevenir fraudes e garantir a \\nsegurança de todos os usuários. Após o envio dos documentos, nossa equipe faz a \\nvalidação automática e manual dos dados./nPrazo para ativação da conta  \\nO processo de verificação leva até 2 dias úteis. Em casos com divergências de dados ou \\nimagens ilegíveis, esse prazo pode se estender. O cliente será notificado por e-mail ou \\nnotificação no app. \\n \\nProblemas comuns no cadastro \\n●\\u200b Documento vencido ou ilegível \\n●\\u200b Foto do documento fora do enquadramento \\n●\\u200b Não realização do vídeo de reconhecimento facial \\n●\\u200b Dados incorretos ou divergentes com a Receita Federal \\n \\n \\n3. Acesso à Conta \\nAcesso via site - Acesse o site oficial e clique em \"Entrar\" no topo da página. Insira seu \\nCPF e senha. Caso deseje, habilite a opção de lembrar o dispositivo para logins futuros. \\nAcesso via aplicativo - Abra o aplicativo no seu celular. Insira seu CPF e senha ou utilize \\nbiometria caso esteja ativada. Para maior segurança, o app solicita confirmação por código \\nSMS ou e-mail em dispositivos novos. \\nRecuperação de senha e login - Clique em \"Esqueci minha senha\" na tela de login. \\nInforme o CPF e siga as instruções enviadas por e-mail ou SMS para criar uma nova senha. \\nCaso não receba o código, verifique sua caixa de spam ou entre em contato com o suporte. \\nHabilitação de biometria e reconhecimento facial - No app, acesse \"Configurações > \\nSegurança\" e ative a opção de biometria. A função está disponível apenas em dispositivos \\ncompatíveis. \\nDispositivos permitidos e gerenciados - Acesse \"Minha conta > Dispositivos\" para ver \\ntodos os dispositivos conectados. Você pode remover acessos antigos ou desconhecidos a \\nqualquer momento. \\n \\n4. Funcionalidades da Conta \\nVisão geral da conta (saldos, extratos, notificações) - Na página inicial do app ou site, é \\npossível visualizar o saldo total, extratos dos últimos 30 dias e todas as notificações de \\nmovimentação, pagamentos e transferências./nConta corrente vs. conta de pagamentos - Oferecemos conta de pagamentos com \\nfuncionalidades semelhantes à conta corrente tradicional, como transferências, boletos e \\ncartão. Não possui cheque ou conta garantida, mas permite operações completas no meio \\ndigital. \\nLimites de movimentação - Os limites diários variam conforme o perfil do cliente e podem \\nser consultados em \"Minha conta > Limites\". É possível solicitar aumento temporário ou \\npermanente via app. \\nConfiguração de notificações por e-mail e push - Vá em \"Configurações > Notificações\" \\npara ativar ou desativar alertas de movimentação, saques, recebimentos, entre outros, por \\ne-mail ou diretamente no celular. \\n \\n \\n5. Cartões \\nSolicitação de cartão (virtual e físico) - Após a aprovação da conta, é possível solicitar o \\ncartão virtual instantaneamente no app. Para o cartão físico, acesse \"Cartões > Solicitar \\ncartão físico\" e informe o endereço de entrega. \\nAtivação e desbloqueio - Para desbloquear o cartão físico, acesse \"Cartões > \\nDesbloquear cartão\", insira os 4 últimos dígitos e confirme com a senha. O cartão virtual já \\nvem ativo. \\nCartão de crédito vs. débito - O cartão é inicialmente emitido como débito. A função \\ncrédito pode ser solicitada via app e é sujeita a análise de crédito. \\nEmissão de segunda via - Em caso de perda, roubo ou defeito, solicite a 2ª via pelo app \\nem \"Cartões > Solicitar segunda via\". A taxa de reemissão pode ser consultada no mesmo \\nlocal. \\nCancelamento de cartão - Acesse \"Cartões > Cancelar cartão\" para cancelar o cartão \\natual. Será necessário confirmar por SMS ou e-mail. \\nCartões adicionais - Atualmente não oferecemos cartões adicionais. Essa funcionalidade \\nestá em desenvolvimento e será informada aos clientes assim que estiver disponível. \\n \\n \\n6. Transferências e Pagamentos \\nTED, DOC e Pix\\u200b\\n O banco digital oferece suporte às principais formas de transferência. TED e DOC estão \\ndisponíveis apenas em dias úteis, com prazos de compensação diferentes: TED geralmente/ncai no mesmo dia, enquanto DOC pode levar até o dia útil seguinte. Já o Pix funciona 24h \\npor dia, todos os dias da semana, com compensação instantânea. \\nCadastramento de chaves Pix\\u200b\\n O usuário pode cadastrar suas chaves Pix (CPF, CNPJ, e-mail, número de celular ou chave \\naleatória) diretamente pelo app ou site. Basta acessar a área \"Pix\", clicar em “Minhas \\nchaves” e seguir o passo a passo para registro, exclusão ou portabilidade. \\nTransferência via QR Code\\u200b\\n Transferências Pix podem ser feitas escaneando um QR Code gerado por outra pessoa ou \\nestabelecimento. No app, basta acessar “Pix”, escolher “Pagar com QR Code” e apontar a \\ncâmera. O sistema preencherá automaticamente os dados da transação. \\nAgendamentos e recorrência\\u200b\\n O usuário pode agendar transferências futuras (Pix, TED ou DOC) e configurar \\npagamentos recorrentes, como mensalidades ou prestações. A funcionalidade está \\ndisponível na tela de confirmação da transferência. \\nPagamento de boletos e contas\\u200b\\n Boletos podem ser pagos escaneando o código de barras ou digitando manualmente a \\nnumeração. Também é possível configurar agendamento de pagamentos. Contas de \\nconsumo (água, luz, telefone, etc.) são reconhecidas automaticamente. \\nPagamento por aproximação (NFC)\\u200b\\n Cartões físicos e virtuais compatíveis com NFC podem ser usados para pagamentos por \\naproximação. É necessário que o dispositivo seja compatível e que o recurso esteja ativado \\nno app do banco. \\nHistórico de transações\\u200b\\n Todas as transferências e pagamentos realizados ficam registrados no extrato da conta. O \\nhistórico pode ser filtrado por data, tipo de operação e valor, tanto no aplicativo quanto no \\nsite. \\n \\n \\n7. Depósitos \\nDepósito por boleto bancário\\u200b\\n O cliente pode gerar um boleto bancário com valor determinado e vencimento \\npersonalizado para realizar depósitos em sua conta. A compensação costuma ocorrer em \\naté 2 dias úteis após o pagamento. \\nDepósito por transferência de outros bancos\\u200b\\n O banco aceita transferências de outras instituições via TED, DOC ou Pix. Basta informar \\nos dados bancários ou a chave Pix para receber os valores diretamente na conta./nDepósito via Pix\\u200b\\n Para depósitos instantâneos, o Pix é o meio mais rápido. O cliente pode utilizar sua chave \\nPix ou gerar um QR Code de cobrança. A transferência cai na conta em segundos, mesmo \\nfora do horário comercial. \\nPrazos de compensação\\u200b\\n Pix: instantâneo.\\u200b\\n TED: até o mesmo dia, se feito em dias úteis e horário comercial.\\u200b\\n DOC: no próximo dia útil.\\u200b\\n Boleto: até 2 dias úteis após o pagamento. \\n \\n \\n8. Saques \\nSaques em caixas 24h\\u200b\\n Os saques podem ser feitos em caixas da rede Banco24Horas usando o cartão físico. \\nBasta inserir o cartão, digitar a senha e escolher o valor. Algumas opções permitem saque \\ncom QR Code pelo app. \\nSaques com cartão virtual\\u200b\\n Alguns parceiros e caixas eletrônicos oferecem saque sem cartão físico, apenas com \\nautenticação pelo app e uso de QR Code ou senha temporária. Verifique a disponibilidade \\nno app. \\nLimites e taxas\\u200b\\n O banco pode oferecer saques gratuitos limitados por mês. Após isso, pode haver \\ncobrança por operação. O limite de valor diário e mensal pode ser consultado e ajustado no \\nmenu “Configurações” > “Limites”. \\nComo localizar caixas autorizados\\u200b\\n O app conta com um localizador de caixas eletrônicos e pontos autorizados. Basta acessar \\n“Saque” > “Localizar caixa” e ativar a geolocalização. \\n \\n \\n9. Produtos e Serviços Financeiros \\nEmpréstimos e crédito pessoal\\u200b\\n A solicitação pode ser feita pelo app ou site, onde o cliente pode simular condições de \\nvalor, prazo e juros. A aprovação depende de análise de crédito. Em caso positivo, o valor é \\nliberado na conta em poucos minutos. \\nSimulação, solicitação e aprovação\\u200b\\n No menu “Crédito”, o cliente pode realizar uma simulação personalizada, ver a/npré-aprovação (caso disponível) e seguir com a contratação. Os documentos e termos ficam \\ndisponíveis para assinatura digital. \\nInvestimentos\\u200b\\n A plataforma oferece acesso a investimentos como CDBs, Tesouro Direto e fundos. O \\nusuário pode comparar rentabilidades, prazos e liquidez, com simulações detalhadas e \\nexplicações sobre o perfil de risco. \\nTipos disponíveis (CDB, Tesouro, etc.)\\u200b\\n Os principais produtos incluem: \\n●\\u200b CDBs com liquidez diária e prazos fixos\\u200b\\n \\n●\\u200b Tesouro Direto (prefixado, IPCA, Selic)\\u200b\\n \\n●\\u200b Fundos de investimento (renda fixa e multimercado)\\u200b\\n \\n●\\u200b Fundos com cashback ou vínculo com cartão\\u200b\\n \\nSeguros\\u200b\\n Oferece planos de seguro para vida, cartão, celular, entre outros. Contratação direta pelo \\napp com cobertura básica e planos customizáveis. As apólices ficam disponíveis \\ndigitalmente. \\nCashback e recompensas\\u200b\\n Alguns produtos e cartões oferecem cashback em compras qualificadas. O valor é \\ncreditado automaticamente ou acumulado. Pode haver também recompensas vinculadas a \\nparcerias ou metas de uso. \\nProgramas de fidelidade\\u200b\\n Clientes podem participar de programas que acumulam pontos ou cashback para trocas \\npor produtos, milhas ou descontos em serviços parceiros. \\n \\n \\n10. Aplicativo e Site \\nNavegação geral\\u200b\\n O app e o site possuem menus intuitivos divididos por funcionalidades principais: Conta, \\nCartões, Pix, Investimentos, Crédito, Configurações. O acesso às funções está otimizado \\npara diferentes dispositivos. \\nAtualizações e compatibilidade\\u200b\\n É importante manter o app atualizado para garantir segurança e acesso às novas \\nfuncionalidades. Compatível com Android e iOS nas versões mais recentes. O site funciona \\nnos principais navegadores./nRecursos exclusivos do app\\u200b\\n Alguns recursos estão disponíveis apenas no app, como saque por QR Code, notificações \\npush em tempo real, login por biometria e autenticação em dois fatores via aplicativo. \\nPermissões e notificações\\u200b\\n O app pode solicitar permissões como localização (para encontrar caixas) e acesso à \\ncâmera (para leitura de QR Code). Notificações podem ser gerenciadas nas configurações \\ndo app e do sistema operacional. \\nErros comuns e soluções\\u200b\\n Erros como “Falha na conexão” ou “Dados inválidos” costumam estar relacionados a \\ninstabilidade de internet ou versões desatualizadas. Recomenda-se verificar a conexão, \\natualizar o app e reiniciar o dispositivo. \\n \\n \\n \\n11. Segurança da Conta \\nAutenticação em dois fatores (2FA)\\u200b\\n O banco digital oferece autenticação em dois fatores para proteger o acesso. Ao ativar o \\nrecurso, além da senha, o usuário precisará inserir um código enviado por SMS, e-mail ou \\ngerado por aplicativo autenticador (como Google Authenticator). Pode ser ativado nas \\n“Configurações de Segurança”. \\nReconhecimento de dispositivo confiável\\u200b\\n A conta reconhece dispositivos previamente usados pelo usuário. Ao acessar de um novo \\ndispositivo, será exigida uma verificação adicional. O cliente pode consultar e remover \\ndispositivos autorizados no app ou site. \\nAlteração de senha\\u200b\\nPara alterar uma senha no aplicativo, clique no menu \\'Minha conta\\' e selecione \\'Alterar \\nsenha\\'.Para alterar a senha pelo site, acesse \\'Configurações\\' no menu do topo. Em seguida, \\nselecione \\'Minha conta\\' e \\'Alterar senha\\'. O sistema exige a senha atual e, por segurança, \\nnão permite reutilizar senhas anteriores recentes. \\nRecuperação de acesso\\u200b\\n Caso o usuário esqueça a senha ou login, pode clicar em “Esqueci minha senha” na tela \\ninicial. O sistema pedirá verificação de identidade por e-mail, SMS ou documento, \\ndependendo do nível de segurança definido. \\nDicas de segurança digital \\n●\\u200b Nunca compartilhe senhas ou códigos de verificação.\\u200b\\n \\n●\\u200b Evite usar redes Wi-Fi públicas para acessar o app.\\u200b/n●\\u200b Ative notificações de movimentações na conta.\\u200b\\n \\n●\\u200b Mantenha o sistema do celular e o app atualizados.\\u200b\\n \\n●\\u200b Use senhas fortes e exclusivas.\\u200b\\n \\nFraudes mais comuns e como evitar \\n●\\u200b Phishing: e-mails ou mensagens falsas pedindo dados. Verifique sempre o \\nremetente.\\u200b\\n \\n●\\u200b Links falsos: evite clicar em links não confiáveis.\\u200b\\n \\n●\\u200b Golpe do falso atendente: o banco nunca solicita senhas ou códigos por telefone.\\u200b\\n \\n●\\u200b Clonagem de WhatsApp: não compartilhe códigos recebidos por SMS.\\u200b\\n \\n \\n12. Gerenciamento de Dados Pessoais \\nComo alterar dados cadastrais\\u200b\\n Dados como telefone, e-mail, endereço e profissão podem ser atualizados no app em \\n“Minha conta” > “Dados pessoais”. Alterações sensíveis, como nome e CPF, exigem envio \\nde documentação. \\nExclusão de conta\\u200b\\n A exclusão pode ser solicitada no menu “Encerramento de conta” ou pelo atendimento. \\nApós a solicitação, o banco inicia um processo que pode levar até 10 dias úteis. Durante \\nesse período, o cliente deve estar com a conta zerada. \\nPolítica de privacidade\\u200b\\n A política detalha como os dados do usuário são coletados, utilizados e armazenados. Está \\ndisponível no rodapé do site e no menu de configurações do app. O banco segue os \\nprincípios da LGPD. \\nConsentimento de uso de dados\\u200b\\n O cliente pode revisar e alterar as permissões concedidas para uso de dados com fins de \\nmarketing, análise ou compartilhamento com parceiros. Essa opção está em “Privacidade e \\nconsentimentos”. \\nLGPD e direitos do usuário\\u200b\\n A Lei Geral de Proteção de Dados garante ao cliente: \\n●\\u200b Acesso aos dados armazenados\\u200b/n●\\u200b Correção de informações incorretas\\u200b\\n \\n●\\u200b Revogação do consentimento\\u200b\\n \\n●\\u200b Portabilidade de dados\\u200b\\n \\n●\\u200b Solicitação de exclusão\\u200b\\n \\n \\n13. Suporte e Atendimento \\nCanais de atendimento (chat, e-mail, telefone)\\u200b\\n O banco oferece atendimento via: \\n●\\u200b Chat pelo aplicativo (disponível 24h)\\u200b\\n \\n●\\u200b E-mail: suporte@safebank.com\\u200b\\n \\n●\\u200b Telefone: 0800-123-4567 (dias úteis, 8h às 20h)\\u200b\\n \\nAtendimento 24h e horários\\u200b\\n O chat virtual opera 24h. Para atendimento humano, o horário é das 8h às 20h em dias \\núteis. Algumas solicitações específicas, como contestação de débito, podem ter prazos \\nadicionais. \\nFale com um atendente humano\\u200b\\n Para ser atendido por uma pessoa, o usuário pode solicitar “falar com atendente” no chat. \\nO sistema redirecionará após triagem automática. Também é possível ligar para o número \\nde suporte. \\nOuvidoria e resolução de conflitos\\u200b\\n Se o atendimento inicial não resolver a situação, o cliente pode acionar a ouvidoria pelo \\ne-mail ouvidoria@safebank.com. A resposta será enviada em até 10 dias úteis. \\nAtendimento a pessoas com deficiência\\u200b\\n Há suporte com acessibilidade para pessoas com deficiência visual (navegação com leitor \\nde tela) e auditiva (atendimento via Libras por videochamada agendada). Mais informações \\nestão na seção “Acessibilidade” do site. \\n \\n14. Encerramento de Conta \\nComo solicitar encerramento\\u200b\\n O encerramento pode ser solicitado no app em “Minha conta” > “Encerramento”. Também é/npossível via atendimento. O cliente deve estar com o saldo zerado e sem pendências \\nfinanceiras. \\nPrazo para efetivação\\u200b\\n O processo de encerramento pode levar até 10 dias úteis após a solicitação, desde que \\ntodas as condições estejam cumpridas. Um e-mail de confirmação será enviado ao término. \\nSaldo remanescente\\u200b\\n Caso haja saldo positivo, o cliente deverá informar outra conta bancária para transferência. \\nSe o saldo for negativo, será necessário regularizar antes do encerramento. \\nCancelamento de serviços vinculados\\u200b\\n Com o encerramento, todos os serviços ativos serão automaticamente cancelados, \\nincluindo cartões, seguros, programas de fidelidade e investimentos. Recomenda-se \\nresgatar valores aplicados antes do encerramento. \\n \\n15. Problemas Técnicos e Erros Comuns \\nProblemas de acesso ao app/site\\u200b\\n Verifique sua conexão com a internet, se o app está atualizado e se há manutenções \\nprogramadas. Se o erro persistir, tente reiniciar o dispositivo. Em último caso, entre em \\ncontato com o suporte. \\nNotificações que não aparecem\\u200b\\n Verifique se as notificações estão ativadas no app e nas configurações do sistema \\noperacional. Reinstalar o app pode resolver falhas de push. \\nErros de transação\\u200b\\n Falhas podem ocorrer por saldo insuficiente, problemas no servidor do banco ou dados \\nincorretos. Sempre verifique o status no extrato e aguarde até 30 minutos antes de tentar \\nnovamente. \\nAtualizações pendentes\\u200b\\n Atualizações são lançadas com frequência para corrigir erros e melhorar a segurança. \\nMantenha o app sempre atualizado pela loja oficial (App Store ou Google Play). \\nFalhas na leitura de QR Code\\u200b\\n Garanta que a câmera esteja com foco e que o código não esteja danificado ou fora do \\nenquadramento. Tente limpar a lente ou ajustar a iluminação. Também é possível digitar o \\ncódigo manualmente. \\n \\n \\n16. Termos e Políticas/nTermos de uso\\u200b\\n Define as regras e condições para utilização dos serviços. Ao abrir a conta, o cliente \\nconcorda com esses termos, que estão disponíveis no site e no app. \\nPolítica de privacidade\\u200b\\n Estabelece como os dados dos usuários são coletados, tratados e protegidos. A política \\nestá em conformidade com a LGPD e pode ser consultada a qualquer momento. \\nPolítica antifraude\\u200b\\n Define os mecanismos de prevenção, monitoramento e combate a fraudes, como análise \\nde comportamento, autenticação reforçada e bloqueios automáticos em situações \\nsuspeitas. \\nPolítica de crédito\\u200b\\n Explica os critérios usados para concessão de crédito, análise de risco e limites. Inclui \\ninformações sobre negativação e consulta a bureaus de crédito. \\nCódigo de ética e conduta\\u200b\\n Apresenta os valores e princípios que regem o relacionamento com clientes, parceiros e \\ncolaboradores. Inclui diretrizes sobre integridade, transparência e respeito. \\n \\n \\n17. Glossário de Termos Financeiros \\nExemplos de termos explicados: \\n●\\u200b Pix: Sistema de pagamento instantâneo criado pelo Banco Central.\\u200b\\n \\n●\\u200b TED: Transferência Eletrônica Disponível, geralmente cai no mesmo dia útil.\\u200b\\n \\n●\\u200b CDB: Certificado de Depósito Bancário, investimento de renda fixa.\\u200b\\n \\n●\\u200b 2FA: Autenticação em dois fatores, medida adicional de segurança.\\u200b\\n \\n●\\u200b Liquidez: Capacidade de um ativo ser convertido em dinheiro.\\u200b\\n \\n●\\u200b Anuidade: Valor cobrado anualmente pelo uso de alguns cartões.\\u200b\\n \\n●\\u200b Score de crédito: Indicador da capacidade de pagamento de uma pessoa.\\u200b\\n \\n●\\u200b Chargeback: Estorno de uma transação realizada com cartão.'"
            ],
            "application/vnd.google.colaboratory.intrinsic+json": {
              "type": "string"
            }
          },
          "metadata": {},
          "execution_count": 37
        }
      ]
    },
    {
      "cell_type": "code",
      "source": [],
      "metadata": {
        "id": "e_AjRI4jKFxp"
      },
      "execution_count": null,
      "outputs": []
    }
  ]
}